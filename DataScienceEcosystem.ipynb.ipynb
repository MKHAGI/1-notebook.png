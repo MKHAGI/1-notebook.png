{
 "cells": [
  {
   "cell_type": "markdown",
   "id": "8312e594-13c4-47a8-95cc-5c565d0177c6",
   "metadata": {},
   "source": [
    "# Data Science Tools and Ecosytem"
   ]
  },
  {
   "cell_type": "markdown",
   "id": "49657c20-4b3c-4158-9251-2a084a815efd",
   "metadata": {},
   "source": [
    "In this notebook, Data Science Tools and Ecosystem are summarized."
   ]
  },
  {
   "cell_type": "markdown",
   "id": "e7c59f92-fb6d-4444-a61a-eb530b03f0f6",
   "metadata": {},
   "source": [
    "Some of the popular languages that Data Scientits use are:\n",
    "1. Python\n",
    "2. R\n",
    "3. SQL\n",
    "4. Julia"
   ]
  },
  {
   "cell_type": "markdown",
   "id": "943ce91b-2e03-4aa4-a7ce-d7bbef171bfe",
   "metadata": {},
   "source": [
    "Some of the commonly used libraries used by Data Scientits include:\n",
    "1. NumPy\n",
    "2. Pandas\n",
    "3. Matplotlib\n",
    "4. Scikit-learn"
   ]
  },
  {
   "cell_type": "markdown",
   "id": "575c6d59-f114-467f-b0b0-bf77a7e028bc",
   "metadata": {},
   "source": [
    "|Data Science Tools|\n",
    "|---|\n",
    "|Jupyter Notebook|\n",
    "|Apache Zeppelin|\n",
    "|RStudio|"
   ]
  },
  {
   "cell_type": "markdown",
   "id": "2a479708-f1ee-4b76-9b0f-2e76933fe00f",
   "metadata": {},
   "source": [
    "### Below are a few exapmples of evaluating arithmetic expressions in Python"
   ]
  },
  {
   "cell_type": "code",
   "execution_count": 1,
   "id": "3d65f82c-6808-4ad2-b109-408ec3cba4ab",
   "metadata": {},
   "outputs": [
    {
     "data": {
      "text/plain": [
       "17"
      ]
     },
     "execution_count": 1,
     "metadata": {},
     "output_type": "execute_result"
    }
   ],
   "source": [
    "# This is a simple arithmetic expression to multiply then add integers\n",
    "(3*4)+5"
   ]
  },
  {
   "cell_type": "code",
   "execution_count": 2,
   "id": "46d6edcc-225a-4977-99e7-deaf0af9bc54",
   "metadata": {},
   "outputs": [
    {
     "data": {
      "text/plain": [
       "3.3333333333333335"
      ]
     },
     "execution_count": 2,
     "metadata": {},
     "output_type": "execute_result"
    }
   ],
   "source": [
    "# This will convert 200 minutes to hours by dividing by 60\n",
    "200/60"
   ]
  },
  {
   "cell_type": "markdown",
   "id": "cf49d988-480b-41df-a9e4-98f73e2f6e5a",
   "metadata": {},
   "source": [
    "# Objectives:\n",
    "* Python\n",
    "* R\n",
    "* SQL\n",
    "* Julia\n",
    "* Java\n"
   ]
  },
  {
   "cell_type": "markdown",
   "id": "ffcf31ac-790d-4907-8c03-d85dbccc7baf",
   "metadata": {},
   "source": [
    "## Author\n",
    "Lindokuhle Given Mkhabela"
   ]
  }
 ],
 "metadata": {
  "kernelspec": {
   "display_name": "Python [conda env:base] *",
   "language": "python",
   "name": "conda-base-py"
  },
  "language_info": {
   "codemirror_mode": {
    "name": "ipython",
    "version": 3
   },
   "file_extension": ".py",
   "mimetype": "text/x-python",
   "name": "python",
   "nbconvert_exporter": "python",
   "pygments_lexer": "ipython3",
   "version": "3.13.5"
  }
 },
 "nbformat": 4,
 "nbformat_minor": 5
}
